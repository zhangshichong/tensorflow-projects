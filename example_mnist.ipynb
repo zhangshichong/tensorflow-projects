{
  "nbformat": 4,
  "nbformat_minor": 0,
  "metadata": {
    "colab": {
      "name": "example_mnist.ipynb",
      "version": "0.3.2",
      "provenance": [],
      "include_colab_link": true
    },
    "kernelspec": {
      "name": "python3",
      "display_name": "Python 3"
    }
  },
  "cells": [
    {
      "cell_type": "markdown",
      "metadata": {
        "id": "view-in-github",
        "colab_type": "text"
      },
      "source": [
        "<a href=\"https://colab.research.google.com/github/zhangshichong/tensorflow-projects/blob/master/example_mnist.ipynb\" target=\"_parent\"><img src=\"https://colab.research.google.com/assets/colab-badge.svg\" alt=\"Open In Colab\"/></a>"
      ]
    },
    {
      "cell_type": "code",
      "metadata": {
        "id": "RSyHhDNkzIAI",
        "colab_type": "code",
        "outputId": "f8b06cdb-af18-4ca1-c3af-cc8fc6c90467",
        "colab": {
          "base_uri": "https://localhost:8080/",
          "height": 420
        }
      },
      "source": [
        "import tensorflow as tf\n",
        "from tensorflow.examples.tutorials.mnist import input_data\n",
        "mnist = input_data.read_data_sets('MNIST_data', one_hot = True)\n",
        "batch_size = 100\n",
        "X_holder = tf.placeholder(tf.float32)\n",
        "y_holder = tf.placeholder(tf.float32)\n",
        "\n",
        "Weights = tf.Variable(tf.zeros([784, 10]))\n",
        "biases = tf.Variable(tf.zeros([1,10]))\n",
        "predict_y = tf.nn.softmax(tf.matmul(X_holder, Weights) + biases)\n",
        "loss = tf.reduce_mean(-tf.reduce_sum(y_holder * tf.log(predict_y), 1))\n",
        "optimizer = tf.train.GradientDescentOptimizer(0.5)\n",
        "train = optimizer.minimize(loss)\n",
        "\n",
        "session = tf.Session()\n",
        "init = tf.global_variables_initializer()\n",
        "session.run(init)\n",
        "for i in range(500):\n",
        "    images, labels = mnist.train.next_batch(batch_size)\n",
        "    session.run(train, feed_dict={X_holder:images, y_holder:labels})\n",
        "    if i % 25 == 0:\n",
        "        correct_prediction = tf.equal(tf.argmax(predict_y, 1), tf.argmax(y_holder, 1))\n",
        "        accuracy = tf.reduce_mean(tf.cast(correct_prediction, tf.float32))\n",
        "        accuracy_value = session.run(accuracy, feed_dict={X_holder:mnist.test.images, y_holder:mnist.test.labels})\n",
        "        print('step:%d accuracy:%.4f' %(i, accuracy_value))"
      ],
      "execution_count": 4,
      "outputs": [
        {
          "output_type": "stream",
          "text": [
            "Extracting MNIST_data/train-images-idx3-ubyte.gz\n",
            "Extracting MNIST_data/train-labels-idx1-ubyte.gz\n",
            "Extracting MNIST_data/t10k-images-idx3-ubyte.gz\n",
            "Extracting MNIST_data/t10k-labels-idx1-ubyte.gz\n",
            "step:0 accuracy:0.3310\n",
            "step:25 accuracy:0.8564\n",
            "step:50 accuracy:0.8735\n",
            "step:75 accuracy:0.8852\n",
            "step:100 accuracy:0.8907\n",
            "step:125 accuracy:0.8994\n",
            "step:150 accuracy:0.9038\n",
            "step:175 accuracy:0.9018\n",
            "step:200 accuracy:0.9047\n",
            "step:225 accuracy:0.9058\n",
            "step:250 accuracy:0.9087\n",
            "step:275 accuracy:0.9096\n",
            "step:300 accuracy:0.9096\n",
            "step:325 accuracy:0.9068\n",
            "step:350 accuracy:0.9135\n",
            "step:375 accuracy:0.9130\n",
            "step:400 accuracy:0.9113\n",
            "step:425 accuracy:0.9171\n",
            "step:450 accuracy:0.9103\n",
            "step:475 accuracy:0.9067\n"
          ],
          "name": "stdout"
        }
      ]
    },
    {
      "cell_type": "markdown",
      "metadata": {
        "id": "ZkPhXpbK8qDb",
        "colab_type": "text"
      },
      "source": [
        ""
      ]
    },
    {
      "cell_type": "code",
      "metadata": {
        "id": "L0oG2-XBzRBk",
        "colab_type": "code",
        "colab": {}
      },
      "source": [
        ""
      ],
      "execution_count": 0,
      "outputs": []
    }
  ]
}